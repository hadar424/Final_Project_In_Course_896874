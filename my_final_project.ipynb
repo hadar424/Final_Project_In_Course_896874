{
  "nbformat": 4,
  "nbformat_minor": 0,
  "metadata": {
    "colab": {
      "name": "Copy of my_final_project.ipynb",
      "provenance": [],
      "collapsed_sections": [],
      "include_colab_link": true
    },
    "kernelspec": {
      "name": "python3",
      "display_name": "Python 3"
    },
    "language_info": {
      "name": "python"
    },
    "accelerator": "GPU"
  },
  "cells": [
    {
      "cell_type": "markdown",
      "metadata": {
        "id": "view-in-github",
        "colab_type": "text"
      },
      "source": [
        "<a href=\"https://colab.research.google.com/github/hadar424/my_final_project/blob/main/my_final_project.ipynb\" target=\"_parent\"><img src=\"https://colab.research.google.com/assets/colab-badge.svg\" alt=\"Open In Colab\"/></a>"
      ]
    },
    {
      "cell_type": "code",
      "metadata": {
        "id": "iMVCKBpnzhIQ"
      },
      "source": [
        "import torch\n",
        "import torch.nn as nn\n",
        "import torch.optim as optim\n",
        "import torch.nn.functional as F\n",
        "import numpy as np\n",
        "import torchvision\n",
        "from torchvision import *\n",
        "from torch.utils.data import Dataset, DataLoader\n",
        "\n",
        "import matplotlib.pyplot as plt\n",
        "import time\n",
        "import copy\n",
        "import os"
      ],
      "execution_count": 1,
      "outputs": []
    },
    {
      "cell_type": "code",
      "metadata": {
        "id": "ogbKNjGy-PzU",
        "colab": {
          "base_uri": "https://localhost:8080/",
          "height": 68
        },
        "outputId": "182c5e67-1404-45d0-a807-43608bc6bd2a"
      },
      "source": [
        "from google.colab import drive\n",
        "drive.mount('/content/drive', force_remount=True)\n",
        "\"\"\"\n",
        "FOLDERNAME = 'final_project/'\n",
        "ASSIGNMENTNAME = 'input'\n",
        "%cd drive/My\\ Drive\n",
        "%cp -r $FOLDERNAME/$ASSIGNMENTNAME ../../\n",
        "%cd ../../\n",
        "\"\"\"\n"
      ],
      "execution_count": 2,
      "outputs": [
        {
          "output_type": "stream",
          "text": [
            "Mounted at /content/drive\n"
          ],
          "name": "stdout"
        },
        {
          "output_type": "execute_result",
          "data": {
            "application/vnd.google.colaboratory.intrinsic+json": {
              "type": "string"
            },
            "text/plain": [
              "\"\\nFOLDERNAME = 'final_project/'\\nASSIGNMENTNAME = 'input'\\n%cd drive/My\\\\ Drive\\n%cp -r $FOLDERNAME/$ASSIGNMENTNAME ../../\\n%cd ../../\\n\""
            ]
          },
          "metadata": {
            "tags": []
          },
          "execution_count": 2
        }
      ]
    },
    {
      "cell_type": "code",
      "metadata": {
        "colab": {
          "base_uri": "https://localhost:8080/",
          "height": 52
        },
        "id": "FkfmjQFpcrCg",
        "outputId": "50075b31-272a-4014-a32d-cec0c3a7ae3a"
      },
      "source": [
        "train_data_path = \"./drive/MyDrive/final_project/input/fruits-360-dataset/fruits-360/Training\"\n",
        "test_data_path = \"./drive/MyDrive/final_project/input/fruits-360-dataset/fruits-360/Test\"\n",
        "\"\"\"\n",
        "train_data_path = \"./input/fruits-360-dataset/fruits-360/Training\"\n",
        "test_data_path = \"./input/fruits-360-dataset/fruits-360/Test\"\n",
        "\"\"\""
      ],
      "execution_count": 3,
      "outputs": [
        {
          "output_type": "execute_result",
          "data": {
            "application/vnd.google.colaboratory.intrinsic+json": {
              "type": "string"
            },
            "text/plain": [
              "'\\ntrain_data_path = \"./input/fruits-360-dataset/fruits-360/Training\"\\ntest_data_path = \"./input/fruits-360-dataset/fruits-360/Test\"\\n'"
            ]
          },
          "metadata": {
            "tags": []
          },
          "execution_count": 3
        }
      ]
    },
    {
      "cell_type": "code",
      "metadata": {
        "colab": {
          "base_uri": "https://localhost:8080/"
        },
        "id": "D98aOXMafKD5",
        "outputId": "ac63246f-3858-40c5-eb1a-d6a13116500b"
      },
      "source": [
        "batch_size = 131\n",
        "model1_transforms = transforms.Compose(\n",
        "[\n",
        "    transforms.ToTensor()\n",
        "])\n",
        "\n",
        "train_dataset1 = datasets.ImageFolder(root= train_data_path, transform=model1_transforms)\n",
        "test_dataset1 = datasets.ImageFolder(root= test_data_path, transform=model1_transforms)\n",
        "train_dataloader1 = DataLoader(train_dataset1, batch_size=batch_size, shuffle=True)\n",
        "test_dataloader1 = DataLoader(test_dataset1, batch_size=batch_size, shuffle=True)\n",
        "\n",
        "device = torch.device('cuda:0' if torch.cuda.is_available() else 'cpu')\n",
        "images, labels = next(iter(train_dataloader1)) \n",
        "print(\"images-size:\", images.shape)\n",
        "print(\"labels-size:\", labels.shape)"
      ],
      "execution_count": 4,
      "outputs": [
        {
          "output_type": "stream",
          "text": [
            "images-size: torch.Size([131, 3, 100, 100])\n",
            "labels-size: torch.Size([131])\n"
          ],
          "name": "stdout"
        }
      ]
    },
    {
      "cell_type": "code",
      "metadata": {
        "id": "hvG9D1B7fl-9"
      },
      "source": [
        "model1 = models.resnet18(pretrained=True)\n",
        "model1 = model1.cuda() if device else model1\n",
        "criterion = nn.CrossEntropyLoss()\n",
        "sgd_optimizer = optim.SGD(model1.parameters(), lr=0.0001, momentum=0.9)\n",
        "\n",
        "num_features = model1.fc.in_features\n",
        "model1.fc = nn.Linear(num_features, batch_size)\n",
        "model1.fc = model1.fc.cuda()"
      ],
      "execution_count": 5,
      "outputs": []
    },
    {
      "cell_type": "code",
      "metadata": {
        "id": "5zHz9c3-gfOp"
      },
      "source": [
        "def train_model(model,n_epochs, loss_func, optimizer, train_dataloader, test_dataloader, d_device):\n",
        "  valid_loss_min = np.Inf\n",
        "  val_loss = []\n",
        "  val_acc = []\n",
        "  train_loss = []\n",
        "  train_acc = []\n",
        "  total_step = len(train_dataloader)\n",
        "  for epoch in range(1, n_epochs+1):\n",
        "    running_loss = 0.0\n",
        "    correct = 0\n",
        "    total=0\n",
        "    print(f'Epoch {epoch}\\n')\n",
        "    for batch_idx, (data_, target_) in enumerate(train_dataloader):\n",
        "      data_, target_ = data_.to(d_device), target_.to(d_device)\n",
        "      optimizer.zero_grad()\n",
        "      outputs = model(data_)\n",
        "      loss = loss_func(outputs, target_)\n",
        "      loss.backward()\n",
        "      optimizer.step()\n",
        "      running_loss += loss.item()\n",
        "      _,pred = torch.max(outputs, dim=1)\n",
        "      correct += torch.sum(pred==target_).item()\n",
        "      total += target_.size(0)\n",
        "      if (batch_idx) % 20 == 0:\n",
        "        print ('Epoch [{}/{}], Step [{}/{}], Loss: {:.4f}'\n",
        "        .format(epoch, n_epochs, batch_idx, total_step, loss.item()))\n",
        "    train_acc.append(100 * correct / total)\n",
        "    train_loss.append(running_loss/total_step)\n",
        "    print(f'\\ntrain-loss: {np.mean(train_loss):.4f}, train-acc: {(100 * correct/total):.4f}')\n",
        "    batch_loss = 0\n",
        "    total_t=0\n",
        "    correct_t=0\n",
        "    with torch.no_grad():\n",
        "        loss_func.eval()\n",
        "        for data_t, target_t in (test_dataloader):\n",
        "            data_t, target_t = data_t.to(d_device), target_t.to(d_device)\n",
        "            outputs_t = model(data_t)\n",
        "            loss_t = loss_func(outputs_t, target_t)\n",
        "            batch_loss += loss_t.item()\n",
        "            _,pred_t = torch.max(outputs_t, dim=1)\n",
        "            correct_t += torch.sum(pred_t==target_t).item()\n",
        "            total_t += target_t.size(0)\n",
        "        val_acc.append(100 * correct_t/total_t)\n",
        "        val_loss.append(batch_loss/len(test_dataloader))\n",
        "        print(f'validation loss: {np.mean(val_loss):.4f}, validation acc: {(100 * correct_t/total_t):.4f}\\n')\n",
        "    model.train()\n",
        "  return train_acc,val_acc"
      ],
      "execution_count": 6,
      "outputs": []
    },
    {
      "cell_type": "code",
      "metadata": {
        "colab": {
          "base_uri": "https://localhost:8080/"
        },
        "id": "Kazknsi7hObF",
        "outputId": "1858a467-e8b7-4a44-c915-f6c7cc7af49b"
      },
      "source": [
        "train_acc1,val_acc1 = train_model(model1,10,criterion,sgd_optimizer,train_dataloader1,test_dataloader1,device)"
      ],
      "execution_count": null,
      "outputs": [
        {
          "output_type": "stream",
          "text": [
            "Epoch 1\n",
            "\n",
            "Epoch [1/10], Step [0/517], Loss: 5.2444\n",
            "Epoch [1/10], Step [20/517], Loss: 5.0917\n",
            "Epoch [1/10], Step [40/517], Loss: 5.0624\n",
            "Epoch [1/10], Step [60/517], Loss: 5.0612\n",
            "Epoch [1/10], Step [80/517], Loss: 4.8415\n",
            "Epoch [1/10], Step [100/517], Loss: 4.8528\n",
            "Epoch [1/10], Step [120/517], Loss: 4.6579\n"
          ],
          "name": "stdout"
        }
      ]
    },
    {
      "cell_type": "code",
      "metadata": {
        "id": "eYmLR8UJ1wA6"
      },
      "source": [
        "fig = plt.figure(figsize=(20,10))\n",
        "plt.title(\"Train-Validation Accuracy Model1\")\n",
        "plt.plot(train_acc1, label='train')\n",
        "plt.plot(val_acc1, label='validation')\n",
        "plt.xlabel('num_epochs', fontsize=12)\n",
        "plt.ylabel('accuracy', fontsize=12)\n",
        "plt.legend(loc='best')"
      ],
      "execution_count": null,
      "outputs": []
    },
    {
      "cell_type": "code",
      "metadata": {
        "id": "heJI3BR-9Hx0"
      },
      "source": [
        "def visualize_model(model, num_images, test_dataloader, test_dataset):\n",
        "    images_so_far = 0\n",
        "    fig = plt.figure(figsize=(8, 5))\n",
        "    for i, data in enumerate(test_dataloader):\n",
        "        inputs, labels = data\n",
        "        inputs, labels = inputs.cuda(), labels.cuda()\n",
        "        outputs = model(inputs)\n",
        "        _, preds = torch.max(outputs.data, 1)\n",
        "        preds = preds.cpu()\n",
        "        preds = preds.numpy()\n",
        "        for j in range(inputs.size()[0]):\n",
        "            images_so_far += 1\n",
        "            ax = plt.subplot(2, num_images//2, images_so_far)\n",
        "            ax.axis('off')\n",
        "            ax.set_title('predictes: {}'.format(test_dataset.classes[preds[j]]))\n",
        "            inputs = inputs.cpu()\n",
        "            image = inputs[j].squeeze().permute(1,2,0)\n",
        "            plt.imshow(image)\n",
        "            \n",
        "            if images_so_far == num_images:\n",
        "                return "
      ],
      "execution_count": null,
      "outputs": []
    },
    {
      "cell_type": "code",
      "metadata": {
        "id": "8jLIW81Z9SjT"
      },
      "source": [
        "plt.ion()\n",
        "visualize_model(model1, 4, test_dataloader1, test_dataset1)\n",
        "plt.ioff()"
      ],
      "execution_count": null,
      "outputs": []
    }
  ]
}